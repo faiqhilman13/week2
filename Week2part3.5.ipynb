{
 "cells": [
  {
   "cell_type": "code",
   "execution_count": 2,
   "id": "1ecef273",
   "metadata": {},
   "outputs": [],
   "source": [
    "import pandas as pd\n",
    "import numpy as np\n",
    "from matplotlib import pyplot as plt\n"
   ]
  },
  {
   "cell_type": "code",
   "execution_count": 5,
   "id": "1a1324e6",
   "metadata": {},
   "outputs": [],
   "source": [
    "f5 = pd.read_csv(r\"C:\\Users\\Faiq Hilman\\Downloads\\TB_burden_countries_2014-09-29.csv\", encoding = 'latin-1')\n"
   ]
  },
  {
   "cell_type": "code",
   "execution_count": 6,
   "id": "2d6a2a97",
   "metadata": {},
   "outputs": [
    {
     "data": {
      "image/png": "[encoded data removed]",
      "text/plain": [
       "<Figure size 432x288 with 1 Axes>"
      ]
     },
     "metadata": {},
     "output_type": "display_data"
    },
    {
     "data": {
      "image/png": "[encoded data removed]",
      "text/plain": [
       "<Figure size 432x288 with 1 Axes>"
      ]
     },
     "metadata": {},
     "output_type": "display_data"
    },
    {
     "name": "stdout",
     "output_type": "stream",
     "text": [
      "0       2.000000\n",
      "1       2.000000\n",
      "2       2.000000\n",
      "3       2.000000\n",
      "4       2.000000\n",
      "          ...   \n",
      "4898    9.483816\n",
      "4899    9.483816\n",
      "4900    9.483816\n",
      "4901    9.483816\n",
      "4902    9.483816\n",
      "Name: iso_numeric, Length: 4903, dtype: float64\n"
     ]
    }
   ],
   "source": [
    "df = pd.DataFrame(f5)\n",
    "df2 = df.fillna(0)\n",
    "col_9 = df2['e_prev_100k_hi']\n",
    "col_3 = df2['iso_numeric']\n",
    "plt.style.use('fivethirtyeight')\n",
    "bins = [0, 500, 1000, 1500, 2000, 2500, 3000, 3500, 4000]\n",
    "p_1 = plt.hist(col_9, bins = bins, edgecolor = 'black', log = False)\n",
    "plt.show(p_1)\n",
    "p_2 = plt.hist(col_3, bins = 10, edgecolor = 'black', log = True)\n",
    "plt.show(p_2)\n",
    "\n",
    "log_2= np.log2(df2['iso_numeric'])\n",
    "print(log_2)"
   ]
  },
  {
   "cell_type": "code",
   "execution_count": 7,
   "id": "f0f4ec7f",
   "metadata": {},
   "outputs": [
    {
     "data": {
      "text/html": [
       "<div>\n",
       "<style scoped>\n",
       "    .dataframe tbody tr th:only-of-type {\n",
       "        vertical-align: middle;\n",
       "    }\n",
       "\n",
       "    .dataframe tbody tr th {\n",
       "        vertical-align: top;\n",
       "    }\n",
       "\n",
       "    .dataframe thead th {\n",
       "        text-align: right;\n",
       "    }\n",
       "</style>\n",
       "<table border=\"1\" class=\"dataframe\">\n",
       "  <thead>\n",
       "    <tr style=\"text-align: right;\">\n",
       "      <th></th>\n",
       "      <th>iso_numeric</th>\n",
       "      <th>year</th>\n",
       "      <th>e_pop_num</th>\n",
       "      <th>e_prev_100k</th>\n",
       "      <th>e_prev_100k_lo</th>\n",
       "      <th>e_prev_100k_hi</th>\n",
       "      <th>e_prev_num</th>\n",
       "      <th>e_prev_num_lo</th>\n",
       "      <th>e_prev_num_hi</th>\n",
       "      <th>e_mort_exc_tbhiv_100k</th>\n",
       "      <th>...</th>\n",
       "      <th>e_tbhiv_prct_hi</th>\n",
       "      <th>e_inc_tbhiv_100k</th>\n",
       "      <th>e_inc_tbhiv_100k_lo</th>\n",
       "      <th>e_inc_tbhiv_100k_hi</th>\n",
       "      <th>e_inc_tbhiv_num</th>\n",
       "      <th>e_inc_tbhiv_num_lo</th>\n",
       "      <th>e_inc_tbhiv_num_hi</th>\n",
       "      <th>c_cdr</th>\n",
       "      <th>c_cdr_lo</th>\n",
       "      <th>c_cdr_hi</th>\n",
       "    </tr>\n",
       "  </thead>\n",
       "  <tbody>\n",
       "    <tr>\n",
       "      <th>0</th>\n",
       "      <td>0</td>\n",
       "      <td>0</td>\n",
       "      <td>0</td>\n",
       "      <td>0</td>\n",
       "      <td>0</td>\n",
       "      <td>0</td>\n",
       "      <td>0</td>\n",
       "      <td>0</td>\n",
       "      <td>0</td>\n",
       "      <td>0</td>\n",
       "      <td>...</td>\n",
       "      <td>0</td>\n",
       "      <td>0</td>\n",
       "      <td>0</td>\n",
       "      <td>0</td>\n",
       "      <td>0</td>\n",
       "      <td>0</td>\n",
       "      <td>0</td>\n",
       "      <td>0</td>\n",
       "      <td>0</td>\n",
       "      <td>0</td>\n",
       "    </tr>\n",
       "    <tr>\n",
       "      <th>1</th>\n",
       "      <td>1</td>\n",
       "      <td>1</td>\n",
       "      <td>1</td>\n",
       "      <td>1</td>\n",
       "      <td>1</td>\n",
       "      <td>1</td>\n",
       "      <td>1</td>\n",
       "      <td>1</td>\n",
       "      <td>1</td>\n",
       "      <td>1</td>\n",
       "      <td>...</td>\n",
       "      <td>1</td>\n",
       "      <td>1</td>\n",
       "      <td>1</td>\n",
       "      <td>1</td>\n",
       "      <td>1</td>\n",
       "      <td>1</td>\n",
       "      <td>1</td>\n",
       "      <td>1</td>\n",
       "      <td>1</td>\n",
       "      <td>1</td>\n",
       "    </tr>\n",
       "  </tbody>\n",
       "</table>\n",
       "<p>2 rows × 33 columns</p>\n",
       "</div>"
      ],
      "text/plain": [
       "   iso_numeric  year  e_pop_num  e_prev_100k  e_prev_100k_lo  e_prev_100k_hi  \\\n",
       "0            0     0          0            0               0               0   \n",
       "1            1     1          1            1               1               1   \n",
       "\n",
       "   e_prev_num  e_prev_num_lo  e_prev_num_hi  e_mort_exc_tbhiv_100k  ...  \\\n",
       "0           0              0              0                      0  ...   \n",
       "1           1              1              1                      1  ...   \n",
       "\n",
       "   e_tbhiv_prct_hi  e_inc_tbhiv_100k  e_inc_tbhiv_100k_lo  \\\n",
       "0                0                 0                    0   \n",
       "1                1                 1                    1   \n",
       "\n",
       "   e_inc_tbhiv_100k_hi  e_inc_tbhiv_num  e_inc_tbhiv_num_lo  \\\n",
       "0                    0                0                   0   \n",
       "1                    1                1                   1   \n",
       "\n",
       "   e_inc_tbhiv_num_hi  c_cdr  c_cdr_lo  c_cdr_hi  \n",
       "0                   0      0         0         0  \n",
       "1                   1      1         1         1  \n",
       "\n",
       "[2 rows x 33 columns]"
      ]
     },
     "execution_count": 7,
     "metadata": {},
     "output_type": "execute_result"
    }
   ],
   "source": [
    "new_df = df2.select_dtypes(include=[np.number])\n",
    "new_df.apply(lambda x: pd.Series([0, 1]))"
   ]
  },
  {
   "cell_type": "code",
   "execution_count": 9,
   "id": "b1cc6859",
   "metadata": {},
   "outputs": [
    {
     "name": "stdout",
     "output_type": "stream",
     "text": [
      "iso_numeric                 4.334875e+02\n",
      "year                        2.001042e+03\n",
      "e_pop_num                   2.899179e+07\n",
      "e_prev_100k                 2.072285e+02\n",
      "e_prev_100k_lo              9.347312e+01\n",
      "e_prev_100k_hi              3.772886e+02\n",
      "e_prev_num                  6.898856e+04\n",
      "e_prev_num_lo               4.356310e+04\n",
      "e_prev_num_hi               1.062219e+05\n",
      "e_mort_exc_tbhiv_100k       1.624211e+01\n",
      "e_mort_exc_tbhiv_100k_lo    7.021346e+00\n",
      "e_mort_exc_tbhiv_100k_hi    5.283615e+01\n",
      "e_mort_exc_tbhiv_num        5.845786e+03\n",
      "e_mort_exc_tbhiv_num_lo     3.184544e+03\n",
      "e_mort_exc_tbhiv_num_hi     1.017028e+04\n",
      "e_inc_100k                  1.351965e+02\n",
      "e_inc_100k_lo               1.067194e+02\n",
      "e_inc_100k_hi               1.692109e+02\n",
      "e_inc_num                   4.097931e+04\n",
      "e_inc_num_lo                3.326733e+04\n",
      "e_inc_num_hi                5.041775e+04\n",
      "e_tbhiv_prct                8.375517e+00\n",
      "e_tbhiv_prct_lo             8.002239e+00\n",
      "e_tbhiv_prct_hi             8.139668e+00\n",
      "e_inc_tbhiv_100k            2.856841e+01\n",
      "e_inc_tbhiv_100k_lo         2.286624e+01\n",
      "e_inc_tbhiv_100k_hi         3.523127e+01\n",
      "e_inc_tbhiv_num             4.335553e+03\n",
      "e_inc_tbhiv_num_lo          3.382920e+03\n",
      "e_inc_tbhiv_num_hi          5.540682e+03\n",
      "c_cdr                       6.168600e+01\n",
      "c_cdr_lo                    5.259098e+01\n",
      "c_cdr_hi                    7.578613e+01\n",
      "dtype: float64\n"
     ]
    }
   ],
   "source": [
    "import pandas as pd\n",
    "import numpy as np\n",
    "f5 = pd.read_csv(r\"C:\\Users\\Faiq Hilman\\Downloads\\TB_burden_countries_2014-09-29.csv\", encoding = 'latin-1')\n",
    "df = pd.DataFrame(f5)\n",
    "df2 = df.fillna(0)\n",
    "new_df = df2.select_dtypes(include=[np.number])\n",
    "new_df2 =new_df.mean(axis = 0)\n",
    "print(new_df2)"
   ]
  },
  {
   "cell_type": "code",
   "execution_count": null,
   "id": "82e2476b",
   "metadata": {},
   "outputs": [],
   "source": []
  }
 ],
 "metadata": {
  "kernelspec": {
   "display_name": "Python 3 (ipykernel)",
   "language": "python",
   "name": "python3"
  },
  "language_info": {
   "codemirror_mode": {
    "name": "ipython",
    "version": 3
   },
   "file_extension": ".py",
   "mimetype": "text/x-python",
   "name": "python",
   "nbconvert_exporter": "python",
   "pygments_lexer": "ipython3",
   "version": "3.9.12"
  }
 },
 "nbformat": 4,
 "nbformat_minor": 5
}
