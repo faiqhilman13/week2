{
 "cells": [
  {
   "cell_type": "code",
   "execution_count": 2,
   "id": "f8b3b58a",
   "metadata": {},
   "outputs": [],
   "source": [
    "import pandas as pd\n",
    "import csv\n",
    "import numpy as np"
   ]
  },
  {
   "cell_type": "code",
   "execution_count": 3,
   "id": "e240b3ca",
   "metadata": {},
   "outputs": [
    {
     "name": "stdout",
     "output_type": "stream",
     "text": [
      "          country iso2 iso3  iso_numeric g_whoregion  year  e_pop_num  \\\n",
      "0     Afghanistan   AF  AFG            4         EMR  1990   11731193   \n",
      "1     Afghanistan   AF  AFG            4         EMR  1991   12612043   \n",
      "2     Afghanistan   AF  AFG            4         EMR  1992   13811876   \n",
      "3     Afghanistan   AF  AFG            4         EMR  1993   15175325   \n",
      "4     Afghanistan   AF  AFG            4         EMR  1994   16485018   \n",
      "...           ...  ...  ...          ...         ...   ...        ...   \n",
      "4898     Zimbabwe   ZW  ZWE          716         AFR  2008   12784041   \n",
      "4899     Zimbabwe   ZW  ZWE          716         AFR  2009   12888918   \n",
      "4900     Zimbabwe   ZW  ZWE          716         AFR  2010   13076978   \n",
      "4901     Zimbabwe   ZW  ZWE          716         AFR  2011   13358738   \n",
      "4902     Zimbabwe   ZW  ZWE          716         AFR  2012   13724317   \n",
      "\n",
      "      e_prev_100k  e_prev_100k_lo  e_prev_100k_hi  ...  e_inc_tbhiv_100k  \\\n",
      "0           327.0           112.0           655.0  ...              0.35   \n",
      "1           359.0           172.0           613.0  ...              0.36   \n",
      "2           387.0           169.0           693.0  ...              0.37   \n",
      "3           412.0           186.0           724.0  ...              0.38   \n",
      "4           431.0           199.0           751.0  ...              0.40   \n",
      "...           ...             ...             ...  ...               ...   \n",
      "4898        445.0            56.0          1228.0  ...            574.00   \n",
      "4899        423.0            49.0          1192.0  ...            531.00   \n",
      "4900        438.0            70.0          1136.0  ...            480.00   \n",
      "4901        458.0            93.0          1107.0  ...            433.00   \n",
      "4902        433.0            92.0          1034.0  ...            399.00   \n",
      "\n",
      "      e_inc_tbhiv_100k_lo  e_inc_tbhiv_100k_hi  e_inc_tbhiv_num  \\\n",
      "0                    0.22                 0.52             41.0   \n",
      "1                    0.19                 0.58             45.0   \n",
      "2                    0.19                 0.62             51.0   \n",
      "3                    0.20                 0.63             58.0   \n",
      "4                    0.21                 0.64             65.0   \n",
      "...                   ...                  ...              ...   \n",
      "4898               447.00               716.00          73000.0   \n",
      "4899               408.00               670.00          68000.0   \n",
      "4900               371.00               603.00          63000.0   \n",
      "4901               335.00               543.00          58000.0   \n",
      "4902               308.00               501.00          55000.0   \n",
      "\n",
      "      e_inc_tbhiv_num_lo  e_inc_tbhiv_num_hi  source_tbhiv  c_cdr  c_cdr_lo  \\\n",
      "0                   25.0                60.0         Model   20.0      13.0   \n",
      "1                   24.0                73.0         Model   97.0      77.0   \n",
      "2                   26.0                86.0         Model    NaN       NaN   \n",
      "3                   30.0                95.0         Model    NaN       NaN   \n",
      "4                   35.0               100.0         Model    NaN       NaN   \n",
      "...                  ...                 ...           ...    ...       ...   \n",
      "4898             57000.0             92000.0  Surveillance   40.0      32.0   \n",
      "4899             53000.0             86000.0  Surveillance   50.0      40.0   \n",
      "4900             48000.0             79000.0  Surveillance   53.0      43.0   \n",
      "4901             45000.0             73000.0  Surveillance   48.0      38.0   \n",
      "4902             42000.0             69000.0  Surveillance   46.0      37.0   \n",
      "\n",
      "     c_cdr_hi  \n",
      "0        32.0  \n",
      "1       120.0  \n",
      "2         NaN  \n",
      "3         NaN  \n",
      "4         NaN  \n",
      "...       ...  \n",
      "4898     51.0  \n",
      "4899     65.0  \n",
      "4900     69.0  \n",
      "4901     62.0  \n",
      "4902     60.0  \n",
      "\n",
      "[4903 rows x 39 columns]\n"
     ]
    }
   ],
   "source": [
    "df = pd.read_csv (r\"C:\\Users\\Faiq Hilman\\Downloads\\TB_burden_countries_2014-09-29.csv\")\n",
    "print(df)"
   ]
  },
  {
   "cell_type": "code",
   "execution_count": null,
   "id": "d87f1145",
   "metadata": {},
   "outputs": [],
   "source": []
  },
  {
   "cell_type": "code",
   "execution_count": 4,
   "id": "fc9b937b",
   "metadata": {},
   "outputs": [],
   "source": [
    "df['e_prev_100k_hi'] = df['e_prev_100k_hi'].fillna(df['e_prev_100k_hi'].mean())"
   ]
  },
  {
   "cell_type": "code",
   "execution_count": 5,
   "id": "24dd6325",
   "metadata": {},
   "outputs": [
    {
     "data": {
      "text/plain": [
       "array([[<AxesSubplot:title={'center':'e_prev_100k_hi'}>]], dtype=object)"
      ]
     },
     "execution_count": 5,
     "metadata": {},
     "output_type": "execute_result"
    },
    {
     "data": {
      "image/png": "[encoded data removed]",
      "text/plain": [
       "<Figure size 432x288 with 1 Axes>"
      ]
     },
     "metadata": {
      "needs_background": "light"
     },
     "output_type": "display_data"
    }
   ],
   "source": [
    "df.hist(column='e_prev_100k_hi')"
   ]
  },
  {
   "cell_type": "code",
   "execution_count": 6,
   "id": "b1497fc8",
   "metadata": {},
   "outputs": [],
   "source": [
    "df['logarithm_base10'] = np.log10(df['e_prev_100k_hi'])\n"
   ]
  },
  {
   "cell_type": "code",
   "execution_count": 7,
   "id": "ffc66b3e",
   "metadata": {},
   "outputs": [
    {
     "data": {
      "text/plain": [
       "array([[<AxesSubplot:title={'center':'logarithm_base10'}>]], dtype=object)"
      ]
     },
     "execution_count": 7,
     "metadata": {},
     "output_type": "execute_result"
    },
    {
     "data": {
      "image/png": "[encoded data removed]",
      "text/plain": [
       "<Figure size 432x288 with 1 Axes>"
      ]
     },
     "metadata": {
      "needs_background": "light"
     },
     "output_type": "display_data"
    }
   ],
   "source": [
    "df.hist(column='logarithm_base10',color = \"purple\")"
   ]
  },
  {
   "cell_type": "code",
   "execution_count": 8,
   "id": "cccf3a64",
   "metadata": {},
   "outputs": [
    {
     "data": {
      "text/plain": [
       "array([[<AxesSubplot:title={'center':'e_pop_num'}>]], dtype=object)"
      ]
     },
     "execution_count": 8,
     "metadata": {},
     "output_type": "execute_result"
    },
    {
     "data": {
      "image/png": "[encoded data removed]",
      "text/plain": [
       "<Figure size 432x288 with 1 Axes>"
      ]
     },
     "metadata": {
      "needs_background": "light"
     },
     "output_type": "display_data"
    }
   ],
   "source": [
    "df.hist(column='e_pop_num')"
   ]
  },
  {
   "cell_type": "code",
   "execution_count": 17,
   "id": "053d1ed5",
   "metadata": {},
   "outputs": [],
   "source": [
    "df['logarithm_base2'] = np.log2(df['e_pop_num'])"
   ]
  },
  {
   "cell_type": "code",
   "execution_count": 18,
   "id": "0562adfb",
   "metadata": {},
   "outputs": [
    {
     "data": {
      "text/plain": [
       "array([[<AxesSubplot:title={'center':'logarithm_base2'}>]], dtype=object)"
      ]
     },
     "execution_count": 18,
     "metadata": {},
     "output_type": "execute_result"
    },
    {
     "data": {
      "image/png": "[encoded data removed]",
      "text/plain": [
       "<Figure size 432x288 with 1 Axes>"
      ]
     },
     "metadata": {
      "needs_background": "light"
     },
     "output_type": "display_data"
    }
   ],
   "source": [
    "df.hist(column='logarithm_base2',color = \"purple\")"
   ]
  },
  {
   "cell_type": "code",
   "execution_count": 19,
   "id": "b20f1f89",
   "metadata": {},
   "outputs": [],
   "source": [
    "df['logarithm_base10'] = np.log10(df['e_pop_num'])"
   ]
  },
  {
   "cell_type": "code",
   "execution_count": 20,
   "id": "7238701d",
   "metadata": {},
   "outputs": [
    {
     "data": {
      "text/plain": [
       "array([[<AxesSubplot:title={'center':'logarithm_base10'}>]], dtype=object)"
      ]
     },
     "execution_count": 20,
     "metadata": {},
     "output_type": "execute_result"
    },
    {
     "data": {
      "image/png": "[encoded data removed]",
      "text/plain": [
       "<Figure size 432x288 with 1 Axes>"
      ]
     },
     "metadata": {
      "needs_background": "light"
     },
     "output_type": "display_data"
    }
   ],
   "source": [
    "df.hist(column='logarithm_base10',color = \"purple\")"
   ]
  },
  {
   "cell_type": "code",
   "execution_count": null,
   "id": "247e08f3",
   "metadata": {},
   "outputs": [],
   "source": []
  },
  {
   "cell_type": "code",
   "execution_count": null,
   "id": "89509b26",
   "metadata": {},
   "outputs": [],
   "source": []
  }
 ],
 "metadata": {
  "kernelspec": {
   "display_name": "Python 3 (ipykernel)",
   "language": "python",
   "name": "python3"
  },
  "language_info": {
   "codemirror_mode": {
    "name": "ipython",
    "version": 3
   },
   "file_extension": ".py",
   "mimetype": "text/x-python",
   "name": "python",
   "nbconvert_exporter": "python",
   "pygments_lexer": "ipython3",
   "version": "3.9.12"
  }
 },
 "nbformat": 4,
 "nbformat_minor": 5
}
